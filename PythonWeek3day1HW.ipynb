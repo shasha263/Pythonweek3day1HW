{
 "cells": [
  {
   "cell_type": "markdown",
   "metadata": {},
   "source": [
    "# Exercises"
   ]
  },
  {
   "cell_type": "markdown",
   "metadata": {},
   "source": [
    "### 1) Build a Shopping Cart <br>\n",
    "<p><b>You can use either lists or dictionaries. The program should have the following capabilities:</b><br><br>\n",
    "1) Takes in input <br>\n",
    "2) Stores user input into a dictionary or list <br>\n",
    "3) The User can add or delete items <br>\n",
    "4) The User can see current shopping list <br>\n",
    "5) The program Loops until user 'quits' <br>\n",
    "6) Upon quiting the program, print out all items in the user's list <br>\n",
    "</p>"
   ]
  },
  {
   "cell_type": "code",
   "execution_count": 3,
   "metadata": {},
   "outputs": [
    {
     "name": "stdout",
     "output_type": "stream",
     "text": [
      "Cookie: 1.5\n",
      "Ice-Cream: 2.5\n",
      "Smoothie: 3.5\n"
     ]
    }
   ],
   "source": [
    "#from IPython.display import clear_output\n",
    "# Ask the user 5 bits of input: Do you want to : Show/Add/Delete/clear or Quit?\n",
    "def shopping_list(): \n",
    "    d={}    \n",
    "    shopping=True\n",
    "    while shopping==True:\n",
    "        begin=input(\"What do you want to do? Add/ Delete/ Quit?\")\n",
    "        if begin.title()==\"Add\":\n",
    "            item= input('Please add your item?')\n",
    "            price=input(f\"What is the price of your {item}?\")\n",
    "            d[item]=price \n",
    "        \n",
    "        elif begin.title()=='Delete':\n",
    "            del d[item]\n",
    "            continue\n",
    "              \n",
    "        elif begin.title()=='Quit':\n",
    "            for item,price in d.items():\n",
    "                print(f\"{item}: {price}\")\n",
    "            break\n",
    "\n",
    "        else:\n",
    "            d[item]=price               \n",
    "      \n",
    "shopping_list()"
   ]
  },
  {
   "cell_type": "markdown",
   "metadata": {},
   "source": [
    "### 2) Create a Module in VS Code and Import It into jupyter notebook <br>\n",
    "<p><b>Module should have the following capabilities:</b><br><br>\n",
    "1) Has a function to calculate the square footage of a house <br>\n",
    "    <b>Reminder of Formula: Length X Width == Area<br>\n",
    "        <hr>\n",
    "2) Has a function to calculate the circumference of a circle <br><br>\n",
    "<b>Program in Jupyter Notebook should take in user input and use imported functions to calculate a circle's circumference or a houses square footage</b>\n",
    "</p>"
   ]
  },
  {
   "cell_type": "markdown",
   "metadata": {},
   "source": [
    "1) Square footage of house:"
   ]
  },
  {
   "cell_type": "code",
   "execution_count": 1,
   "metadata": {},
   "outputs": [
    {
     "name": "stdout",
     "output_type": "stream",
     "text": [
      "30\n"
     ]
    }
   ],
   "source": [
    "import area_cir\n",
    "\n",
    "print(area_cir.find_area(6,5))"
   ]
  },
  {
   "cell_type": "markdown",
   "metadata": {},
   "source": [
    "2)Circumference of a circle"
   ]
  },
  {
   "cell_type": "code",
   "execution_count": 3,
   "metadata": {},
   "outputs": [
    {
     "name": "stdout",
     "output_type": "stream",
     "text": [
      "25.132741228718345\n"
     ]
    }
   ],
   "source": [
    "import area_cir\n",
    "print(area_cir.find_circumference(4))"
   ]
  }
 ],
 "metadata": {
  "interpreter": {
   "hash": "b93b91927d7b2753ebe242aa7dfcdfef91881393d8b926ec2ce01874b09d686e"
  },
  "kernelspec": {
   "display_name": "Python 3.9.7 64-bit",
   "language": "python",
   "name": "python3"
  },
  "language_info": {
   "codemirror_mode": {
    "name": "ipython",
    "version": 3
   },
   "file_extension": ".py",
   "mimetype": "text/x-python",
   "name": "python",
   "nbconvert_exporter": "python",
   "pygments_lexer": "ipython3",
   "version": "3.9.7"
  },
  "orig_nbformat": 4
 },
 "nbformat": 4,
 "nbformat_minor": 2
}
